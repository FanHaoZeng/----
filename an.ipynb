{
 "cells": [
  {
   "cell_type": "code",
   "execution_count": 26,
   "id": "bc9c2bd5",
   "metadata": {},
   "outputs": [],
   "source": [
    "import pandas as pd\n",
    "\n",
    "# 读取csv文件\n",
    "df = pd.read_csv(\"伊宁市_2345历史天气_2023_08_to_2025_07.csv\")\n",
    "df_raw = pd.read_csv(\"伊宁市_2345历史天气_raw_2023_08_to_2025_07.csv\")\n",
    "\n"
   ]
  },
  {
   "cell_type": "code",
   "execution_count": null,
   "id": "4f8bfb1d",
   "metadata": {},
   "outputs": [
    {
     "name": "stdout",
     "output_type": "stream",
     "text": [
      "weather_start 分布：\n",
      "weather_start\n",
      "6     268\n",
      "7     198\n",
      "1     138\n",
      "3      34\n",
      "5      32\n",
      "12     15\n",
      "2       7\n",
      "13      7\n",
      "8       6\n",
      "14      2\n",
      "4       1\n",
      "Name: count, dtype: int64\n",
      "\n",
      "weather_end 分布：\n",
      "weather_end\n",
      "1     372\n",
      "7     155\n",
      "3      82\n",
      "6      47\n",
      "12     20\n",
      "8      13\n",
      "2       8\n",
      "4       7\n",
      "13      3\n",
      "14      1\n",
      "Name: count, dtype: int64\n",
      "raw weather_start 分布：\n",
      "weather_start_raw\n",
      "阴      268\n",
      "多云     198\n",
      "晴      138\n",
      "小雨      34\n",
      "雾       32\n",
      "小雪      14\n",
      "中雨       7\n",
      "中雪       7\n",
      "雨夹雪      6\n",
      "大雨       1\n",
      "暴雪       1\n",
      "大雪       1\n",
      "阵雪       1\n",
      "Name: count, dtype: int64\n",
      "\n",
      "raw weather_end 分布：\n",
      "weather_end_raw\n",
      "晴      372\n",
      "多云     155\n",
      "小雨      82\n",
      "阴       47\n",
      "小雪      20\n",
      "雨夹雪     13\n",
      "中雨       8\n",
      "大雨       7\n",
      "中雪       3\n",
      "大雪       1\n",
      "Name: count, dtype: int64\n"
     ]
    }
   ],
   "source": [
    "# 查看 weather_start 和 weather_end 的分布情况\n",
    "print(\"weather_start 分布：\")\n",
    "print(df['weather_start'].value_counts(dropna=False))\n",
    "\n",
    "print(\"\\nweather_end 分布：\")\n",
    "print(df['weather_end'].value_counts(dropna=False))\n",
    "\n",
    "# 查看 weather_start 和 weather_end 的分布情况\n",
    "print(\"raw weather_start 分布：\")\n",
    "print(df_raw['weather_start_raw'].value_counts(dropna=False))\n",
    "\n",
    "print(\"\\nraw weather_end 分布：\")\n",
    "print(df_raw['weather_end_raw'].value_counts(dropna=False))\n"
   ]
  },
  {
   "cell_type": "code",
   "execution_count": null,
   "id": "82071163",
   "metadata": {},
   "outputs": [],
   "source": []
  }
 ],
 "metadata": {
  "kernelspec": {
   "display_name": "Python 3",
   "language": "python",
   "name": "python3"
  },
  "language_info": {
   "codemirror_mode": {
    "name": "ipython",
    "version": 3
   },
   "file_extension": ".py",
   "mimetype": "text/x-python",
   "name": "python",
   "nbconvert_exporter": "python",
   "pygments_lexer": "ipython3",
   "version": "3.10.18"
  }
 },
 "nbformat": 4,
 "nbformat_minor": 5
}
